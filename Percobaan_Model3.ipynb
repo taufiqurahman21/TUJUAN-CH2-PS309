{
  "nbformat": 4,
  "nbformat_minor": 0,
  "metadata": {
    "colab": {
      "provenance": []
    },
    "kernelspec": {
      "name": "python3",
      "display_name": "Python 3"
    },
    "language_info": {
      "name": "python"
    }
  },
  "cells": [
    {
      "cell_type": "code",
      "execution_count": null,
      "metadata": {
        "id": "yw5nUBBvpdg-",
        "colab": {
          "base_uri": "https://localhost:8080/"
        },
        "outputId": "c6b003c7-8d14-4406-e129-083d7d4094b4"
      },
      "outputs": [
        {
          "output_type": "stream",
          "name": "stdout",
          "text": [
            "Epoch 1/10\n",
            "31/31 [==============================] - 1s 8ms/step - loss: 1.8146 - accuracy: 0.3049 - val_loss: 1.5867 - val_accuracy: 0.4516\n",
            "Epoch 2/10\n",
            "31/31 [==============================] - 0s 4ms/step - loss: 1.2630 - accuracy: 0.6707 - val_loss: 1.1481 - val_accuracy: 0.7258\n",
            "Epoch 3/10\n",
            "31/31 [==============================] - 0s 4ms/step - loss: 0.7707 - accuracy: 0.8638 - val_loss: 0.7175 - val_accuracy: 0.8548\n",
            "Epoch 4/10\n",
            "31/31 [==============================] - 0s 4ms/step - loss: 0.4134 - accuracy: 0.9533 - val_loss: 0.4190 - val_accuracy: 0.9194\n",
            "Epoch 5/10\n",
            "31/31 [==============================] - 0s 3ms/step - loss: 0.2187 - accuracy: 0.9858 - val_loss: 0.2663 - val_accuracy: 0.9597\n",
            "Epoch 6/10\n",
            "31/31 [==============================] - 0s 3ms/step - loss: 0.1246 - accuracy: 0.9959 - val_loss: 0.1909 - val_accuracy: 0.9758\n",
            "Epoch 7/10\n",
            "31/31 [==============================] - 0s 3ms/step - loss: 0.0780 - accuracy: 0.9980 - val_loss: 0.1474 - val_accuracy: 0.9758\n",
            "Epoch 8/10\n",
            "31/31 [==============================] - 0s 3ms/step - loss: 0.0528 - accuracy: 0.9980 - val_loss: 0.1183 - val_accuracy: 0.9839\n",
            "Epoch 9/10\n",
            "31/31 [==============================] - 0s 3ms/step - loss: 0.0369 - accuracy: 1.0000 - val_loss: 0.0987 - val_accuracy: 0.9839\n",
            "Epoch 10/10\n",
            "31/31 [==============================] - 0s 3ms/step - loss: 0.0272 - accuracy: 1.0000 - val_loss: 0.0854 - val_accuracy: 0.9839\n",
            "5/5 [==============================] - 0s 3ms/step\n",
            "Accuracy: 0.9805194805194806\n",
            "Classification Report:\n",
            "              precision    recall  f1-score   support\n",
            "\n",
            "           0       1.00      0.92      0.96        24\n",
            "           1       1.00      1.00      1.00        22\n",
            "           2       1.00      1.00      1.00        22\n",
            "           3       1.00      0.94      0.97        18\n",
            "           4       1.00      1.00      1.00        21\n",
            "           5       0.95      1.00      0.98        21\n",
            "           6       0.93      1.00      0.96        26\n",
            "\n",
            "    accuracy                           0.98       154\n",
            "   macro avg       0.98      0.98      0.98       154\n",
            "weighted avg       0.98      0.98      0.98       154\n",
            "\n"
          ]
        }
      ],
      "source": [
        "import pandas as pd\n",
        "import numpy as np\n",
        "from sklearn.model_selection import train_test_split\n",
        "from sklearn.preprocessing import StandardScaler, LabelEncoder\n",
        "from sklearn.metrics import accuracy_score, classification_report\n",
        "from keras.models import Sequential\n",
        "from keras.layers import Dense\n",
        "\n",
        "# Load dataset\n",
        "url = \"https://raw.githubusercontent.com/mokhaaaa/Dataset/fb3151163d8fe46ede90d3f1534c8a7d95cbdd78/tujuan.csv\"\n",
        "df = pd.read_csv(url)\n",
        "\n",
        "# Pisahkan fitur dan label\n",
        "X = df.iloc[:, :-1].values  # Fitur\n",
        "y = df['minat'].values       # Label\n",
        "\n",
        "# Encode label menggunakan LabelEncoder\n",
        "label_encoder = LabelEncoder()\n",
        "y = label_encoder.fit_transform(y)\n",
        "\n",
        "# Pembagian data\n",
        "X_train, X_test, y_train, y_test = train_test_split(X, y, test_size=0.2, random_state=42)\n",
        "\n",
        "# Normalisasi fitur\n",
        "scaler = StandardScaler()\n",
        "X_train = scaler.fit_transform(X_train)\n",
        "X_test = scaler.transform(X_test)\n",
        "\n",
        "# Inisialisasi model Neural Network\n",
        "model = Sequential()\n",
        "model.add(Dense(64, input_dim=X_train.shape[1], activation='relu'))\n",
        "model.add(Dense(32, activation='relu'))\n",
        "model.add(Dense(len(label_encoder.classes_), activation='softmax'))\n",
        "\n",
        "# Kompilasi model\n",
        "model.compile(loss='sparse_categorical_crossentropy', optimizer='adam', metrics=['accuracy'])\n",
        "\n",
        "# Latih model\n",
        "model.fit(X_train, y_train, epochs=10, batch_size=16, validation_split=0.2)\n",
        "\n",
        "# Evaluasi model\n",
        "y_pred_prob = model.predict(X_test)\n",
        "y_pred = np.argmax(y_pred_prob, axis=1)\n",
        "\n",
        "accuracy = accuracy_score(y_test, y_pred)\n",
        "print(f'Accuracy: {accuracy}')\n",
        "print('Classification Report:')\n",
        "print(classification_report(y_test, y_pred))\n"
      ]
    }
  ]
}